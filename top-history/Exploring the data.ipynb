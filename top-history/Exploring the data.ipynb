{
 "cells": [
  {
   "cell_type": "code",
   "execution_count": 310,
   "metadata": {},
   "outputs": [],
   "source": [
    "import numpy as np\n",
    "import pandas as pd\n",
    "import seaborn as sns\n",
    "import os\n",
    "from datetime import datetime, timedelta\n",
    "\n",
    "from sklearn.model_selection import train_test_split\n",
    "from sklearn.linear_model import LinearRegression\n",
    "from sklearn.metrics import mean_squared_error\n",
    "%matplotlib inline"
   ]
  },
  {
   "cell_type": "code",
   "execution_count": 314,
   "metadata": {},
   "outputs": [],
   "source": [
    "def extract_time(row):\n",
    "    # Convert to pacific time\n",
    "    date = datetime.strptime(row.date, '%Y-%m-%dT%H:%M:%S.%fZ') + timedelta(hours=-7)\n",
    "    return date.time().replace(second=0, microsecond=0)\n",
    "\n",
    "votes = pd.read_csv(\"all.csv\")\n",
    "votes = votes.set_index('post_id')\n",
    "votes['time'] = votes.apply(lambda row: extract_time(row), axis=1)\n",
    "pd.set_option('display.max_colwidth', -1)"
   ]
  },
  {
   "cell_type": "code",
   "execution_count": 315,
   "metadata": {},
   "outputs": [],
   "source": [
    "def train_model(votes, from_band, to_band):\n",
    "    data = votes[(votes.band == from_band)].join(votes[(votes.band == to_band)].score, how='inner', rsuffix='_final')\n",
    "    train_set, test_set = train_test_split(data, test_size=0.2, random_state=42)\n",
    "    lin_reg = LinearRegression()\n",
    "    lin_reg.fit(train_set.score.values.reshape(-1, 1), train_set.score_final.values.reshape(-1, 1))\n",
    "    predictions = lin_reg.predict(test_set.score.values.reshape(-1, 1))\n",
    "    rms = np.sqrt(mean_squared_error(test_set.score_final.values.reshape(-1, 1), predictions))\n",
    "    print(\"Prediction rms: \", rms)\n",
    "    return lin_reg"
   ]
  },
  {
   "cell_type": "code",
   "execution_count": 326,
   "metadata": {},
   "outputs": [
    {
     "name": "stdout",
     "output_type": "stream",
     "text": [
      "('Prediction rms: ', 2121.4951796676855)\n"
     ]
    }
   ],
   "source": [
    "model = train_model(votes, 78, 287)"
   ]
  },
  {
   "cell_type": "code",
   "execution_count": 328,
   "metadata": {},
   "outputs": [
    {
     "data": {
      "text/plain": [
       "array([[708.11960148]])"
      ]
     },
     "execution_count": 328,
     "metadata": {},
     "output_type": "execute_result"
    }
   ],
   "source": [
    "model.predict(np.array([102]).reshape(-1, 1))"
   ]
  },
  {
   "cell_type": "code",
   "execution_count": null,
   "metadata": {},
   "outputs": [],
   "source": [
    "votes[(votes.band == 22) & (votes.score > 2000)]"
   ]
  },
  {
   "cell_type": "code",
   "execution_count": null,
   "metadata": {},
   "outputs": [],
   "source": [
    "votes.plot(x=\"time\", y=\"score\", style='.', figsize=(15,5))"
   ]
  },
  {
   "cell_type": "code",
   "execution_count": null,
   "metadata": {},
   "outputs": [],
   "source": []
  }
 ],
 "metadata": {
  "kernelspec": {
   "display_name": "Python 2",
   "language": "python",
   "name": "python2"
  },
  "language_info": {
   "codemirror_mode": {
    "name": "ipython",
    "version": 2
   },
   "file_extension": ".py",
   "mimetype": "text/x-python",
   "name": "python",
   "nbconvert_exporter": "python",
   "pygments_lexer": "ipython2",
   "version": "2.7.16"
  }
 },
 "nbformat": 4,
 "nbformat_minor": 2
}
