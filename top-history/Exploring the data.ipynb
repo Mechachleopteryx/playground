{
 "cells": [
  {
   "cell_type": "code",
   "execution_count": null,
   "metadata": {},
   "outputs": [],
   "source": [
    "import numpy as np\n",
    "import pandas as pd\n",
    "import seaborn as sns\n",
    "import os\n",
    "from datetime import datetime, timedelta\n",
    "\n",
    "from sklearn.model_selection import train_test_split\n",
    "from sklearn.linear_model import LinearRegression\n",
    "from sklearn.metrics import mean_squared_error\n",
    "from sklearn.model_selection import cross_val_score\n",
    "from sklearn.neural_network import MLPRegressor\n",
    "from sklearn.preprocessing import StandardScaler\n",
    "\n",
    "%matplotlib inline"
   ]
  },
  {
   "cell_type": "code",
   "execution_count": null,
   "metadata": {},
   "outputs": [],
   "source": [
    "def extract_time(row):\n",
    "    # Convert to pacific time\n",
    "    date = datetime.strptime(row.date, '%Y-%m-%dT%H:%M:%S.%fZ') + timedelta(hours=-7)\n",
    "    return date.time().replace(second=0, microsecond=0)\n",
    "\n",
    "def extract_seconds(row):\n",
    "    time = row.time\n",
    "    return (time.hour * 60 + time.minute)\n",
    "\n",
    "votes = pd.read_csv(\"all_extrap.csv\")\n",
    "votes = votes.set_index('post_id')\n",
    "# votes['time'] = votes.apply(lambda row: extract_time(row), axis=1)\n",
    "# votes['second'] = votes.apply(lambda row: extract_seconds(row), axis=1)\n",
    "votes['score_2'] = votes.apply(lambda row: row.score * row.score, axis=1)\n",
    "pd.set_option('display.max_colwidth', -1)\n",
    "pd.set_option('display.max_rows', 500)"
   ]
  },
  {
   "cell_type": "code",
   "execution_count": null,
   "metadata": {},
   "outputs": [],
   "source": [
    "def train_model(votes, from_band, to_band):\n",
    "    data = votes[(votes.band == from_band)].join(votes[(votes.band == to_band)].score, how='inner', rsuffix='_final')\n",
    "    train_set, test_set = train_test_split(data, test_size=0.2, random_state=42)\n",
    "#     lin_reg = MLPRegressor(hidden_layer_sizes=(10,10))\n",
    "    lin_reg = LinearRegression()\n",
    "    learn_from = ['score']\n",
    "    lin_reg.fit(train_set[learn_from], train_set.score_final.values.reshape(-1, 1))\n",
    "    predictions = lin_reg.predict(test_set[learn_from])\n",
    "    return {\n",
    "        'coeff': [lin_reg.intercept_[0], lin_reg.coef_[0][0]],\n",
    "        'rms': np.sqrt(mean_squared_error(test_set.score_final.values.reshape(-1, 1), predictions))\n",
    "    } "
   ]
  },
  {
   "cell_type": "code",
   "execution_count": null,
   "metadata": {},
   "outputs": [],
   "source": [
    "all_predictions = []\n",
    "# 444697.48566902045\n",
    "train_from = votes #[votes.scoreAt24h < 500]\n",
    "error = 0\n",
    "\n",
    "for x in range(288):\n",
    "    predictions = []\n",
    "#     print(\"Processing \" + str(x))\n",
    "    for y in range(x + 1, 288):\n",
    "        res = train_model(train_from, x, y)\n",
    "        predictions.append(res['coeff']) \n",
    "        error += res['rms']\n",
    "\n",
    "    all_predictions.append(predictions)\n",
    "    \n",
    "print(\"Error is \", error)"
   ]
  },
  {
   "cell_type": "code",
   "execution_count": null,
   "metadata": {},
   "outputs": [],
   "source": [
    "import json\n",
    "with open('coeff_interp1.json', 'w') as outfile:\n",
    "    json.dump(all_predictions, outfile)"
   ]
  },
  {
   "cell_type": "code",
   "execution_count": null,
   "metadata": {},
   "outputs": [],
   "source": [
    "from sklearn.model_selection import cross_val_score\n",
    "lin_reg = LinearRegression()\n",
    "learn_from = ['score']\n",
    "scores = cross_val_score(lin_reg, data[learn_from], data.score_final.values.reshape(-1, 1), scoring=\"neg_mean_squared_error\", cv=10)\n",
    "scores = np.sqrt(-scores)\n",
    "print (\"Scores: \", scores)\n",
    "print (\"Mean: \", scores.mean())\n",
    "print (\"std dev: \", scores.std())"
   ]
  },
  {
   "cell_type": "code",
   "execution_count": null,
   "metadata": {},
   "outputs": [],
   "source": [
    "votes[(votes.band == 1) & (votes.scoreAt24h > 5000)].score.describe()"
   ]
  },
  {
   "cell_type": "code",
   "execution_count": null,
   "metadata": {},
   "outputs": [],
   "source": [
    "votes[(votes.scoreAt24h > 5000) & (votes.band == 287)]"
   ]
  },
  {
   "cell_type": "code",
   "execution_count": null,
   "metadata": {},
   "outputs": [],
   "source": [
    "votes[votes.index == '/r/dataisbeautiful/comments/csl706/i_recorded_my_travels_as_a_professional_truck/'][['band', 'score']].to_json('values.json', orient='values')"
   ]
  },
  {
   "cell_type": "code",
   "execution_count": null,
   "metadata": {},
   "outputs": [],
   "source": [
    "votes.loc[votes[(votes.band == 35) & (votes.score < 50) & (votes.scoreAt24h > 8000)].index].plot(x='band', y='score', figsize=(15,5), style='.')"
   ]
  },
  {
   "cell_type": "code",
   "execution_count": null,
   "metadata": {},
   "outputs": [],
   "source": [
    "votes.loc[votes[(votes.band == 35) & (votes.score < 50) & (votes.scoreAt24h > 8000)].index]"
   ]
  },
  {
   "cell_type": "code",
   "execution_count": null,
   "metadata": {},
   "outputs": [],
   "source": [
    "pd.read_csv(\"all_perfect.csv\").plot(x='band', y='score', style='.', figsize=(15,10))"
   ]
  },
  {
   "cell_type": "code",
   "execution_count": null,
   "metadata": {},
   "outputs": [],
   "source": [
    "pd.read_csv(\"all.csv\").plot(x='band', y='score', style='.', figsize=(15,10))"
   ]
  },
  {
   "cell_type": "code",
   "execution_count": null,
   "metadata": {},
   "outputs": [],
   "source": [
    "pd.read_csv(\"all_extrap.csv\").plot(x='band', y='score', style='.', figsize=(15,10))"
   ]
  },
  {
   "cell_type": "code",
   "execution_count": null,
   "metadata": {},
   "outputs": [],
   "source": [
    "votes[votes.band==1].hist(bins=12, figsize=(15,10))"
   ]
  },
  {
   "cell_type": "code",
   "execution_count": null,
   "metadata": {},
   "outputs": [],
   "source": [
    "votes[(votes.band==1) &(votes.score>20)]"
   ]
  },
  {
   "cell_type": "code",
   "execution_count": null,
   "metadata": {},
   "outputs": [],
   "source": []
  }
 ],
 "metadata": {
  "kernelspec": {
   "display_name": "Python 2",
   "language": "python",
   "name": "python2"
  },
  "language_info": {
   "codemirror_mode": {
    "name": "ipython",
    "version": 2
   },
   "file_extension": ".py",
   "mimetype": "text/x-python",
   "name": "python",
   "nbconvert_exporter": "python",
   "pygments_lexer": "ipython2",
   "version": "2.7.16"
  }
 },
 "nbformat": 4,
 "nbformat_minor": 2
}
