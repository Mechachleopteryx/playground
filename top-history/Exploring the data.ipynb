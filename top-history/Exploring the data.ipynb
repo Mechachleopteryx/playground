{
 "cells": [
  {
   "cell_type": "code",
   "execution_count": null,
   "metadata": {},
   "outputs": [],
   "source": [
    "import numpy as np\n",
    "import pandas as pd\n",
    "import seaborn as sns\n",
    "import os\n",
    "from datetime import datetime, timedelta\n",
    "\n",
    "from sklearn.model_selection import train_test_split\n",
    "from sklearn.linear_model import LinearRegression\n",
    "from sklearn.metrics import mean_squared_error\n",
    "from sklearn.model_selection import cross_val_score\n",
    "from sklearn.neural_network import MLPRegressor\n",
    "from sklearn.preprocessing import StandardScaler\n",
    "\n",
    "%matplotlib inline"
   ]
  },
  {
   "cell_type": "code",
   "execution_count": null,
   "metadata": {},
   "outputs": [],
   "source": [
    "def extract_time(row):\n",
    "    # Convert to pacific time\n",
    "    date = datetime.strptime(row.date, '%Y-%m-%dT%H:%M:%S.%fZ') + timedelta(hours=-7)\n",
    "    return date.time().replace(second=0, microsecond=0)\n",
    "\n",
    "def extract_seconds(row):\n",
    "    time = row.time\n",
    "    return (time.hour * 60 + time.minute)\n",
    "\n",
    "votes = pd.read_csv(\"all_extrap.csv\")\n",
    "votes = votes.set_index('post_id')\n",
    "# votes['time'] = votes.apply(lambda row: extract_time(row), axis=1)\n",
    "# votes['second'] = votes.apply(lambda row: extract_seconds(row), axis=1)\n",
    "votes['score_2'] = votes.apply(lambda row: row.score * row.score, axis=1)\n",
    "pd.set_option('display.max_colwidth', -1)\n",
    "pd.set_option('display.max_rows', 500)"
   ]
  },
  {
   "cell_type": "code",
   "execution_count": null,
   "metadata": {},
   "outputs": [],
   "source": [
    "def train_model(votes, from_band, to_band):\n",
    "    data = votes[(votes.band == from_band)].join(votes[(votes.band == to_band)].score, how='inner', rsuffix='_final')   \n",
    "    learn_from = ['score']\n",
    "    train_set, test_set = train_test_split(data, test_size=0.2, random_state=42)\n",
    "    lin_reg = LinearRegression()\n",
    "    lin_reg.fit(train_set[learn_from], train_set.score_final.values.reshape(-1, 1))\n",
    "    predictions = lin_reg.predict(test_set[learn_from])\n",
    "    return {\n",
    "        'coeff': [lin_reg.intercept_[0], lin_reg.coef_[0][0]],\n",
    "        'rms': np.sqrt(mean_squared_error(test_set.score_final.values.reshape(-1, 1), predictions))\n",
    "    } "
   ]
  },
  {
   "cell_type": "code",
   "execution_count": null,
   "metadata": {},
   "outputs": [],
   "source": [
    "def get_split_values(data):\n",
    "    split_bins = []\n",
    "    for x in range(288):\n",
    "        split_value = np.histogram(data[data.band == x].score)[1][1]\n",
    "        split_bins.append(split_value)\n",
    "\n",
    "    return (split_bins)\n",
    "    \n",
    "split_values = get_split_values(votes)\n",
    "\n",
    "low_error = 0\n",
    "all_low_predictions = []\n",
    "\n",
    "high_error = 0\n",
    "all_high_predictions = []\n",
    "\n",
    "total_error = 0\n",
    "all_predictions = []\n",
    "for x in range(288):\n",
    "    low_predictions = []\n",
    "    low_model = votes.loc[votes[(votes.band == x) & (votes.score < split_values[x])].index]\n",
    "    \n",
    "    high_predictions = []\n",
    "    high_model = votes.loc[votes[(votes.band == x) & (votes.score >= split_values[x])].index]\n",
    "\n",
    "    predictions = []\n",
    "    \n",
    "    for y in range(x + 1, 288):\n",
    "        res = train_model(low_model, x, y)\n",
    "        low_predictions.append(res['coeff']) \n",
    "        low_error += res['rms']\n",
    "\n",
    "        res = train_model(high_model, x, y)\n",
    "        high_predictions.append(res['coeff']) \n",
    "        high_error += res['rms']\n",
    "\n",
    "        res = train_model(votes, x, y)\n",
    "        predictions.append(res['coeff']) \n",
    "        total_error += res['rms']\n",
    "\n",
    "        \n",
    "    all_low_predictions.append(low_predictions)\n",
    "    all_high_predictions.append(high_predictions)\n",
    "    all_predictions.append(predictions)\n",
    "\n",
    "print(\"Error is (low, high, overall) \", low_error, high_error, total_error)"
   ]
  },
  {
   "cell_type": "code",
   "execution_count": null,
   "metadata": {},
   "outputs": [],
   "source": [
    "import json\n",
    "with open('coeff_split.json', 'w') as outfile:\n",
    "    json.dump({\n",
    "        'low': all_low_predictions,\n",
    "        'high': all_high_predictions,\n",
    "        'all': all_predictions,\n",
    "        'split': split_values\n",
    "    }, outfile)"
   ]
  },
  {
   "cell_type": "code",
   "execution_count": null,
   "metadata": {},
   "outputs": [],
   "source": [
    "from sklearn.model_selection import cross_val_score\n",
    "lin_reg = LinearRegression()\n",
    "learn_from = ['score']\n",
    "scores = cross_val_score(lin_reg, data[learn_from], data.score_final.values.reshape(-1, 1), scoring=\"neg_mean_squared_error\", cv=10)\n",
    "scores = np.sqrt(-scores)\n",
    "print (\"Scores: \", scores)\n",
    "print (\"Mean: \", scores.mean())\n",
    "print (\"std dev: \", scores.std())"
   ]
  },
  {
   "cell_type": "code",
   "execution_count": null,
   "metadata": {},
   "outputs": [],
   "source": [
    "votes[(votes.band == 100)].score.hist()"
   ]
  },
  {
   "cell_type": "code",
   "execution_count": null,
   "metadata": {},
   "outputs": [],
   "source": [
    "count = np.histogram(votes[(votes.band == 287)].score)\n",
    "print(count[0][0])"
   ]
  },
  {
   "cell_type": "code",
   "execution_count": null,
   "metadata": {},
   "outputs": [],
   "source": [
    "votes.loc[votes[(votes.band == 35) & (votes.score < 50) & (votes.scoreAt24h > 8000)].index].plot(x='band', y='score', figsize=(15,5), style='.')"
   ]
  },
  {
   "cell_type": "code",
   "execution_count": null,
   "metadata": {},
   "outputs": [],
   "source": [
    "votes[(votes.band == 35) & (votes.score < 50) & (votes.scoreAt24h > 8000)].index"
   ]
  },
  {
   "cell_type": "code",
   "execution_count": null,
   "metadata": {},
   "outputs": [],
   "source": [
    "corr = votes.loc[:,votes.dtypes != 'object'].corr()\n",
    "sns.heatmap(corr, xticklabels=corr.columns, yticklabels=corr.columns, cmap=sns.diverging_palette(220, 10, as_cmap=True))"
   ]
  },
  {
   "cell_type": "code",
   "execution_count": null,
   "metadata": {},
   "outputs": [],
   "source": [
    "votes.loc['/r/dataisbeautiful/comments/cq2ng5/oc_game_of_thrones_ratings/'][['band','score']].to_json(path_or_buf='values.json',orient='values')"
   ]
  },
  {
   "cell_type": "code",
   "execution_count": null,
   "metadata": {},
   "outputs": [],
   "source": [
    "import matplotlib.pyplot as plt\n",
    "df = pd.DataFrame()\n",
    "src = votes.loc['/r/dataisbeautiful/comments/cq2ng5/oc_game_of_thrones_ratings/']\n",
    "df['band'] = src['band']\n",
    "df['score'] = src['score']\n",
    "\n",
    "band = 2\n",
    "model = all_predictions[band]\n",
    "t = range(band, 287, 1)\n",
    "s = map(lambda x: model[x - band][0] + model[x  - band][1] * df.score[2], t) \n",
    "# fig, ax = plt.subplots()\n",
    "# ax = df.plot(ax=ax, kind='line', x='band', y='score')\n",
    "# ax.plot(t, s, color='#0033ff22')\n",
    "# plt.show()"
   ]
  },
  {
   "cell_type": "code",
   "execution_count": null,
   "metadata": {},
   "outputs": [],
   "source": [
    "all_predictions[2][284]"
   ]
  },
  {
   "cell_type": "code",
   "execution_count": null,
   "metadata": {},
   "outputs": [],
   "source": [
    "s"
   ]
  },
  {
   "cell_type": "code",
   "execution_count": null,
   "metadata": {},
   "outputs": [],
   "source": [
    "len(df.score)"
   ]
  },
  {
   "cell_type": "code",
   "execution_count": null,
   "metadata": {},
   "outputs": [],
   "source": []
  }
 ],
 "metadata": {
  "kernelspec": {
   "display_name": "Python 2",
   "language": "python",
   "name": "python2"
  },
  "language_info": {
   "codemirror_mode": {
    "name": "ipython",
    "version": 2
   },
   "file_extension": ".py",
   "mimetype": "text/x-python",
   "name": "python",
   "nbconvert_exporter": "python",
   "pygments_lexer": "ipython2",
   "version": "2.7.16"
  }
 },
 "nbformat": 4,
 "nbformat_minor": 2
}
